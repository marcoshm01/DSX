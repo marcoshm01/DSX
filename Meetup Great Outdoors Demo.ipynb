{
    "nbformat_minor": 1, 
    "cells": [
        {
            "source": "<table style=\"border: none\" align=\"left\">\n   <tr style=\"border: none\">\n      <th style=\"border: none\"><font face=\"verdana\" size=\"5\" color=\"black\"><b>Predict outdoor equipment purchase with IBM Watson Machine Learning</b></th>\n      <th style=\"border: none\"><img src=\"https://github.com/pmservice/customer-satisfaction-prediction/blob/master/app/static/images/ml_icon_gray.png?raw=true\" alt=\"Watson Machine Learning icon\" height=\"40\" width=\"40\"></th>\n   </tr>\n   <tr style=\"border: none\">\n       <th style=\"border: none\"><img src=\"https://github.com/pmservice/wml-sample-models/blob/master/spark/product-line-prediction/images/products_graphics.png?raw=true\" alt=\"Icon\"> </th>\n   </tr>\n</table>", 
            "cell_type": "markdown", 
            "metadata": {}
        }, 
        {
            "source": "This notebook contains steps and code to get data from the IBM Data Science Experience Community, create a predictive model, and start scoring new data. This notebook introduces commands for getting data and for basic data cleaning and exploration, pipeline creation, model training, model persistance to Watson Machine Learning repository, model deployment, and scoring.\n\nSome familiarity with Python is helpful. This notebook uses Python 2.0 and Apache\u00ae Spark 2.0.\n\nYou will use a publicly available data set, **GoSales Transactions for Naive Bayes Model**, which details anonymous outdoor equipment purchases. Use the details of this data set to predict clients' interests in terms of product line, such as golf accessories, camping equipment, and others.\n\n**Note**: In this notebook we use GOSales data available on [Data Science Experience Community](https://apsportal.ibm.com/exchange-api/v1/entries/8044492073eb964f46597b4be06ff5ea/data?accessKey=9561295fa407698694b1e254d0099600).\n\n## Learning goals\n\nThe learning goals of this notebook are:\n\n-  Load a CSV file into an Apache\u00ae Spark DataFrame.\n-  Explore data.\n-  Prepare data for training and evaluation.\n-  Create an Apache\u00ae Spark machine learning pipeline.\n-  Train and evaluate a model.\n-  Persist a pipeline and model in Watson Machine Learning repository.\n-  Deploy a model for online scoring using Wastson Machine Learning API.\n-  Score sample scoring data using the Watson Machine Learning API.\n-  Explore and visualize prediction result using the plotly package.\n\n\n## Contents\n\nThis notebook contains the following parts:\n\n1.\t[Setup](#setup)\n2.\t[Load and explore data](#load)\n3.\t[Create spark ml model](#model)\n4.\t[Persist model](#persistence)\n5.\t[Predict locally and visualize](#visualization)\n6.\t[Deploy and score in a Cloud](#scoring)\n7.\t[Summary and next steps](#summary)", 
            "cell_type": "markdown", 
            "metadata": {}
        }, 
        {
            "source": "<a id=\"setup\"></a>\n## 1. Setup\n\nBefore you use the sample code in this notebook, you must perform the following setup tasks:\n\n-  Create a [Watson Machine Learning Service](https://console.ng.bluemix.net/catalog/services/ibm-watson-machine-learning/) instance (a free plan is offered). \n-  Upload **GoSales Transactions** data as a data asset in IBM Data Science Experience.\n-  Make sure that you are using a Spark 2.0 kernel.", 
            "cell_type": "markdown", 
            "metadata": {}
        }, 
        {
            "source": "<a id=\"load\"></a>\n## 2. Load and explore data", 
            "cell_type": "markdown", 
            "metadata": {}
        }, 
        {
            "source": "In this section you will load the data as an Apache\u00ae Spark DataFrame and perform a basic exploration.\n\nLoad the data to the Spark DataFrame by using *wget* to upload the data to gpfs and then *read* method. ", 
            "cell_type": "markdown", 
            "metadata": {}
        }, 
        {
            "source": "**Example**: First, you need to install required packages. You can do it by running the following code. Run it only one time.<BR><BR>\n!pip install wget --user <BR>", 
            "cell_type": "markdown", 
            "metadata": {}
        }, 
        {
            "source": "#!pip install wget --user\n#!pip install totalvoice", 
            "cell_type": "code", 
            "execution_count": 1, 
            "outputs": [], 
            "metadata": {}
        }, 
        {
            "source": "import wget\n\nlink_to_data = 'https://apsportal.ibm.com/exchange-api/v1/entries/8044492073eb964f46597b4be06ff5ea/data?accessKey=9561295fa407698694b1e254d0099600'\nfilename = \"GoSales_Tx_NaiveBayes.csv\"\n\n#filename = wget.download(link_to_data)", 
            "cell_type": "code", 
            "execution_count": 2, 
            "outputs": [], 
            "metadata": {}
        }, 
        {
            "source": "The csv file GoSales_Tx_NaiveBayes.csv is availble on gpfs now. Load the file to Apache\u00ae Spark DataFrame using code below.", 
            "cell_type": "markdown", 
            "metadata": {}
        }, 
        {
            "source": "spark = SparkSession.builder.getOrCreate()\n\ndf_data = spark.read\\\n  .format('org.apache.spark.sql.execution.datasources.csv.CSVFileFormat')\\\n  .option('header', 'true')\\\n  .option('inferSchema', 'true')\\\n  .load(filename).cache()", 
            "cell_type": "code", 
            "execution_count": 3, 
            "outputs": [], 
            "metadata": {}
        }, 
        {
            "source": "from pyspark.sql import SparkSession\nfrom pyspark.sql import Row\nwarehouse_location = 'hdfs://hire4.fyre.ibm.com:8020/apps/hive/warehouse'\n\nspark = SparkSession \\\n    .builder \\\n    .config(\"spark.sql.warehouse.dir\", warehouse_location) \\\n    .enableHiveSupport() \\\n    .getOrCreate()\n    \ndf_data.registerTempTable(\"temptable\")\nspark.sql(\"CREATE TABLE IF NOT EXISTS GOSALES as select * from temptable\")", 
            "cell_type": "code", 
            "execution_count": 4, 
            "outputs": [
                {
                    "output_type": "execute_result", 
                    "data": {
                        "text/plain": "DataFrame[]"
                    }, 
                    "execution_count": 4, 
                    "metadata": {}
                }
            ], 
            "metadata": {}
        }, 
        {
            "source": "df_data = spark.sql(\"SELECT * FROM GOSALES\").cache()", 
            "cell_type": "code", 
            "execution_count": 5, 
            "outputs": [], 
            "metadata": {}
        }, 
        {
            "source": "Explore the loaded data by using the following Apache\u00ae Spark DataFrame methods:\n-  print schema\n-  print top ten records\n-  count all records", 
            "cell_type": "markdown", 
            "metadata": {}
        }, 
        {
            "source": "df_data.printSchema()", 
            "cell_type": "code", 
            "execution_count": 6, 
            "outputs": [
                {
                    "output_type": "stream", 
                    "name": "stdout", 
                    "text": "root\n |-- PRODUCT_LINE: string (nullable = true)\n |-- GENDER: string (nullable = true)\n |-- AGE: integer (nullable = true)\n |-- MARITAL_STATUS: string (nullable = true)\n |-- PROFESSION: string (nullable = true)\n\n"
                }
            ], 
            "metadata": {}
        }, 
        {
            "source": "As you can see, the data contains five fields. PRODUCT_LINE field is the one we would like to predict (label).", 
            "cell_type": "markdown", 
            "metadata": {}
        }, 
        {
            "source": "df_data.show()", 
            "cell_type": "code", 
            "execution_count": 7, 
            "outputs": [
                {
                    "output_type": "stream", 
                    "name": "stdout", 
                    "text": "+--------------------+------+---+--------------+------------+\n|        PRODUCT_LINE|GENDER|AGE|MARITAL_STATUS|  PROFESSION|\n+--------------------+------+---+--------------+------------+\n|Personal Accessories|     M| 27|        Single|Professional|\n|Personal Accessories|     F| 39|       Married|       Other|\n|Mountaineering Eq...|     F| 39|       Married|       Other|\n|Personal Accessories|     F| 56|   Unspecified| Hospitality|\n|      Golf Equipment|     M| 45|       Married|     Retired|\n|      Golf Equipment|     M| 45|       Married|     Retired|\n|   Camping Equipment|     F| 39|       Married|       Other|\n|   Camping Equipment|     F| 49|       Married|       Other|\n|  Outdoor Protection|     F| 49|       Married|       Other|\n|      Golf Equipment|     M| 47|       Married|     Retired|\n|      Golf Equipment|     M| 47|       Married|     Retired|\n|Mountaineering Eq...|     M| 21|        Single|      Retail|\n|Personal Accessories|     F| 66|       Married|       Other|\n|   Camping Equipment|     F| 35|       Married|Professional|\n|Mountaineering Eq...|     M| 20|        Single|       Sales|\n|Mountaineering Eq...|     M| 20|        Single|       Sales|\n|Mountaineering Eq...|     M| 20|        Single|       Sales|\n|Personal Accessories|     F| 37|        Single|       Other|\n|   Camping Equipment|     M| 42|       Married|       Other|\n|   Camping Equipment|     F| 24|       Married|      Retail|\n+--------------------+------+---+--------------+------------+\nonly showing top 20 rows\n\n"
                }
            ], 
            "metadata": {}
        }, 
        {
            "source": "print \"Number of records: \" + str(df_data.count())", 
            "cell_type": "code", 
            "execution_count": 8, 
            "outputs": [
                {
                    "output_type": "stream", 
                    "name": "stdout", 
                    "text": "Number of records: 60252\n"
                }
            ], 
            "metadata": {}
        }, 
        {
            "source": "As you can see, the data set contains 60252 records.", 
            "cell_type": "markdown", 
            "metadata": {}
        }, 
        {
            "source": "<a id=\"model\"></a>\n## 3. Create an Apache\u00ae Spark machine learning model\n\nIn this section you will learn how to prepare data, create an Apache\u00ae Spark machine learning pipeline, and train a model.", 
            "cell_type": "markdown", 
            "metadata": {}
        }, 
        {
            "source": "### 3.1: Prepare data\n\nIn this subsection you will split your data into: train, test and predict datasets.", 
            "cell_type": "markdown", 
            "metadata": {}
        }, 
        {
            "source": "splitted_data = df_data.randomSplit([0.8, 0.18, 0.02], 24)\ntrain_data = splitted_data[0]\ntest_data = splitted_data[1]\npredict_data = splitted_data[2]\n\nprint \"Number of training records: \" + str(train_data.count())\nprint \"Number of testing records : \" + str(test_data.count())\nprint \"Number of prediction records : \" + str(predict_data.count())", 
            "cell_type": "code", 
            "execution_count": 9, 
            "outputs": [
                {
                    "output_type": "stream", 
                    "name": "stdout", 
                    "text": "Number of training records: 48143\nNumber of testing records : 10937\nNumber of prediction records : 1172\n"
                }
            ], 
            "metadata": {}
        }, 
        {
            "source": "train_data.printSchema()", 
            "cell_type": "code", 
            "execution_count": 10, 
            "outputs": [
                {
                    "output_type": "stream", 
                    "name": "stdout", 
                    "text": "root\n |-- PRODUCT_LINE: string (nullable = true)\n |-- GENDER: string (nullable = true)\n |-- AGE: integer (nullable = true)\n |-- MARITAL_STATUS: string (nullable = true)\n |-- PROFESSION: string (nullable = true)\n\n"
                }
            ], 
            "metadata": {}
        }, 
        {
            "source": "As you can see our data has been successfully split into three datasets: \n\n-  The train data set, which is the largest group, is used for training.\n-  The test data set will be used for model evaluation and is used to test the assumptions of the model.\n-  The predict data set will be used for prediction.", 
            "cell_type": "markdown", 
            "metadata": {}
        }, 
        {
            "source": "### 3.2: Create pipeline and train a model", 
            "cell_type": "markdown", 
            "metadata": {}
        }, 
        {
            "source": "In this section you will create an Apache\u00ae Spark machine learning pipeline and then train the model.", 
            "cell_type": "markdown", 
            "metadata": {}
        }, 
        {
            "source": "In the first step you need to import the Apache\u00ae Spark machine learning packages that will be needed in the subsequent steps.", 
            "cell_type": "markdown", 
            "metadata": {}
        }, 
        {
            "source": "from pyspark.ml.feature import OneHotEncoder, StringIndexer, IndexToString, VectorAssembler\nfrom pyspark.ml.classification import RandomForestClassifier\nfrom pyspark.ml.evaluation import MulticlassClassificationEvaluator\nfrom pyspark.ml import Pipeline, Model", 
            "cell_type": "code", 
            "execution_count": 11, 
            "outputs": [], 
            "metadata": {}
        }, 
        {
            "source": "In the following step, convert all the string fields to numeric ones by using the StringIndexer transformer.", 
            "cell_type": "markdown", 
            "metadata": {}
        }, 
        {
            "source": "stringIndexer_label = StringIndexer(inputCol=\"PRODUCT_LINE\", outputCol=\"label\").fit(df_data)\nstringIndexer_prof = StringIndexer(inputCol=\"PROFESSION\", outputCol=\"PROFESSION_IX\")\nstringIndexer_gend = StringIndexer(inputCol=\"GENDER\", outputCol=\"GENDER_IX\")\nstringIndexer_mar = StringIndexer(inputCol=\"MARITAL_STATUS\", outputCol=\"MARITAL_STATUS_IX\")", 
            "cell_type": "code", 
            "execution_count": 12, 
            "outputs": [], 
            "metadata": {}
        }, 
        {
            "source": "In the following step, create a feature vector by combining all features together.", 
            "cell_type": "markdown", 
            "metadata": {}
        }, 
        {
            "source": "vectorAssembler_features = VectorAssembler(inputCols=[\"GENDER_IX\", \"AGE\", \"MARITAL_STATUS_IX\", \"PROFESSION_IX\"], outputCol=\"features\")", 
            "cell_type": "code", 
            "execution_count": 13, 
            "outputs": [], 
            "metadata": {}
        }, 
        {
            "source": "Next, define estimators you want to use for classification. Random Forest is used in the following example.", 
            "cell_type": "markdown", 
            "metadata": {}
        }, 
        {
            "source": "rf = RandomForestClassifier(labelCol=\"label\", featuresCol=\"features\")", 
            "cell_type": "code", 
            "execution_count": 14, 
            "outputs": [], 
            "metadata": {}
        }, 
        {
            "source": "Finally, indexed labels back to original labels.", 
            "cell_type": "markdown", 
            "metadata": {}
        }, 
        {
            "source": "labelConverter = IndexToString(inputCol=\"prediction\", outputCol=\"predictedLabel\", labels=stringIndexer_label.labels)", 
            "cell_type": "code", 
            "execution_count": 15, 
            "outputs": [], 
            "metadata": {}
        }, 
        {
            "source": "Let's build the pipeline now. A pipeline consists of transformers and an estimator.", 
            "cell_type": "markdown", 
            "metadata": {}
        }, 
        {
            "source": "pipeline_rf = Pipeline(stages=[stringIndexer_label, stringIndexer_prof, stringIndexer_gend, stringIndexer_mar, vectorAssembler_features, rf, labelConverter])", 
            "cell_type": "code", 
            "execution_count": 16, 
            "outputs": [], 
            "metadata": {}
        }, 
        {
            "source": "Now, you can train your Random Forest model by using the previously defined **pipeline** and **train data**.", 
            "cell_type": "markdown", 
            "metadata": {}
        }, 
        {
            "source": "train_data.printSchema()", 
            "cell_type": "code", 
            "execution_count": 17, 
            "outputs": [
                {
                    "output_type": "stream", 
                    "name": "stdout", 
                    "text": "root\n |-- PRODUCT_LINE: string (nullable = true)\n |-- GENDER: string (nullable = true)\n |-- AGE: integer (nullable = true)\n |-- MARITAL_STATUS: string (nullable = true)\n |-- PROFESSION: string (nullable = true)\n\n"
                }
            ], 
            "metadata": {}
        }, 
        {
            "source": "model_rf = pipeline_rf.fit(train_data)", 
            "cell_type": "code", 
            "execution_count": 18, 
            "outputs": [], 
            "metadata": {}
        }, 
        {
            "source": "model_rf", 
            "cell_type": "code", 
            "execution_count": 19, 
            "outputs": [
                {
                    "output_type": "execute_result", 
                    "data": {
                        "text/plain": "PipelineModel_4d718ce71a3bdc1a3d13"
                    }, 
                    "execution_count": 19, 
                    "metadata": {}
                }
            ], 
            "metadata": {}
        }, 
        {
            "source": "You can check your **model accuracy** now. To evaluate the model, use **test data**.", 
            "cell_type": "markdown", 
            "metadata": {}
        }, 
        {
            "source": "predictions = model_rf.transform(test_data)\nevaluatorRF = MulticlassClassificationEvaluator(labelCol=\"label\", predictionCol=\"prediction\", metricName=\"accuracy\")\naccuracy = evaluatorRF.evaluate(predictions)\n\nprint(\"Accuracy = %g\" % accuracy)\nprint(\"Test Error = %g\" % (1.0 - accuracy))", 
            "cell_type": "code", 
            "execution_count": 20, 
            "outputs": [
                {
                    "output_type": "stream", 
                    "name": "stdout", 
                    "text": "Accuracy = 0.585627\nTest Error = 0.414373\n"
                }
            ], 
            "metadata": {}
        }, 
        {
            "source": "You can tune your model now to achieve better accuracy. For simplicity of this example tuning section is omitted.", 
            "cell_type": "markdown", 
            "metadata": {
                "collapsed": true
            }
        }, 
        {
            "source": "<a id=\"visualization\"></a>\n## 4. Predict locally and visualize", 
            "cell_type": "markdown", 
            "metadata": {}
        }, 
        {
            "source": "In this section you will learn how to score test data using loaded model and visualize the prediction results with plotly package.", 
            "cell_type": "markdown", 
            "metadata": {}
        }, 
        {
            "source": "### 4.1: Make local prediction using previously loaded model and test data", 
            "cell_type": "markdown", 
            "metadata": {}
        }, 
        {
            "source": "In this subsection you will score *predict_data* data set.", 
            "cell_type": "markdown", 
            "metadata": {}
        }, 
        {
            "source": "predictions = model_rf.transform(predict_data)", 
            "cell_type": "code", 
            "execution_count": 21, 
            "outputs": [], 
            "metadata": {}
        }, 
        {
            "source": "predict_data.printSchema()", 
            "cell_type": "code", 
            "execution_count": 22, 
            "outputs": [
                {
                    "output_type": "stream", 
                    "name": "stdout", 
                    "text": "root\n |-- PRODUCT_LINE: string (nullable = true)\n |-- GENDER: string (nullable = true)\n |-- AGE: integer (nullable = true)\n |-- MARITAL_STATUS: string (nullable = true)\n |-- PROFESSION: string (nullable = true)\n\n"
                }
            ], 
            "metadata": {}
        }, 
        {
            "source": "Preview the results by calling the *show()* method on the predictions DataFrame.", 
            "cell_type": "markdown", 
            "metadata": {}
        }, 
        {
            "source": "# predictions.select(\"product_line\",\"gender\",\"age\",\"marital_status\",\"Profession\",\"predictedLabel\").show(5)\n# .where(\"product_line <> 'Camping Equipment'\")", 
            "cell_type": "code", 
            "execution_count": 23, 
            "outputs": [], 
            "metadata": {}
        }, 
        {
            "source": "By tabulating a count, you can see which product line is the most popular.", 
            "cell_type": "markdown", 
            "metadata": {}
        }, 
        {
            "source": "predictions.select(\"predictedLabel\").groupBy(\"predictedLabel\").count().show(truncate=False)", 
            "cell_type": "code", 
            "execution_count": 24, 
            "outputs": [
                {
                    "output_type": "stream", 
                    "name": "stdout", 
                    "text": "+------------------------+-----+\n|predictedLabel          |count|\n+------------------------+-----+\n|Camping Equipment       |723  |\n|Golf Equipment          |86   |\n|Mountaineering Equipment|52   |\n|Personal Accessories    |311  |\n+------------------------+-----+\n\n"
                }
            ], 
            "metadata": {}
        }, 
        {
            "source": "### 4.2: Sample visualization of data with Plotly package", 
            "cell_type": "markdown", 
            "metadata": {}
        }, 
        {
            "source": "In this subsection you will explore prediction results with Plotly, which is an online analytics and data visualization tool.", 
            "cell_type": "markdown", 
            "metadata": {}
        }, 
        {
            "source": "**Example**: First, you need to install required packages. You can do it by running the following code. Run it only one time.<BR><BR>\n!pip install plotly --user <BR>\n!pip install cufflinks==0.8.2 --user", 
            "cell_type": "markdown", 
            "metadata": {}
        }, 
        {
            "source": "#!pip install plotly --user \n#!pip install cufflinks==0.8.2 --user", 
            "cell_type": "code", 
            "execution_count": 25, 
            "outputs": [], 
            "metadata": {}
        }, 
        {
            "source": "Import Plotly and other required packages.", 
            "cell_type": "markdown", 
            "metadata": {}
        }, 
        {
            "source": "import sys\nimport pandas\nimport plotly.plotly as py\nfrom plotly.offline import download_plotlyjs, init_notebook_mode, plot, iplot\nimport cufflinks as cf\nimport plotly.graph_objs as go\n\ninit_notebook_mode(connected=True)\nsys.path.append(\"\".join([os.environ[\"HOME\"]])) ", 
            "cell_type": "code", 
            "execution_count": 26, 
            "outputs": [
                {
                    "output_type": "display_data", 
                    "data": {
                        "text/html": "<script>requirejs.config({paths: { 'plotly': ['https://cdn.plot.ly/plotly-latest.min']},});if(!window.Plotly) {{require(['plotly'],function(plotly) {window.Plotly=plotly;});}}</script>", 
                        "text/vnd.plotly.v1+html": "<script>requirejs.config({paths: { 'plotly': ['https://cdn.plot.ly/plotly-latest.min']},});if(!window.Plotly) {{require(['plotly'],function(plotly) {window.Plotly=plotly;});}}</script>"
                    }, 
                    "metadata": {}
                }
            ], 
            "metadata": {}
        }, 
        {
            "source": "Convert the Apache Spark DataFrame to a Pandas DataFrame.", 
            "cell_type": "markdown", 
            "metadata": {}
        }, 
        {
            "source": "predictions_pdf = predictions.select(\"prediction\", \"predictedLabel\", \"GENDER\", \"AGE\", \"PROFESSION\", \"MARITAL_STATUS\").toPandas()", 
            "cell_type": "code", 
            "execution_count": 27, 
            "outputs": [], 
            "metadata": {}
        }, 
        {
            "source": "Plot a pie chart that shows the predicted product-line interest.", 
            "cell_type": "markdown", 
            "metadata": {}
        }, 
        {
            "source": "cumulative_stats = predictions_pdf.groupby(['predictedLabel']).count()\nproduct_data = [go.Pie(labels=cumulative_stats.index, values=cumulative_stats['GENDER'])]\nproduct_layout = go.Layout(title='Predicted product line client interest distribution')\n\nfig = go.Figure(data=product_data, layout=product_layout)\niplot(fig)", 
            "cell_type": "code", 
            "execution_count": 28, 
            "outputs": [
                {
                    "output_type": "display_data", 
                    "data": {
                        "text/html": "<div id=\"9c1bcace-1a8c-4ba1-b6c0-68f964d0d940\" style=\"height: 525px; width: 100%;\" class=\"plotly-graph-div\"></div><script type=\"text/javascript\">require([\"plotly\"], function(Plotly) { window.PLOTLYENV=window.PLOTLYENV || {};window.PLOTLYENV.BASE_URL=\"https://plot.ly\";Plotly.newPlot(\"9c1bcace-1a8c-4ba1-b6c0-68f964d0d940\", [{\"type\": \"pie\", \"labels\": [\"Camping Equipment\", \"Golf Equipment\", \"Mountaineering Equipment\", \"Personal Accessories\"], \"values\": [723, 86, 52, 311]}], {\"title\": \"Predicted product line client interest distribution\"}, {\"linkText\": \"Export to plot.ly\", \"showLink\": true})});</script>", 
                        "text/vnd.plotly.v1+html": "<div id=\"9c1bcace-1a8c-4ba1-b6c0-68f964d0d940\" style=\"height: 525px; width: 100%;\" class=\"plotly-graph-div\"></div><script type=\"text/javascript\">require([\"plotly\"], function(Plotly) { window.PLOTLYENV=window.PLOTLYENV || {};window.PLOTLYENV.BASE_URL=\"https://plot.ly\";Plotly.newPlot(\"9c1bcace-1a8c-4ba1-b6c0-68f964d0d940\", [{\"type\": \"pie\", \"labels\": [\"Camping Equipment\", \"Golf Equipment\", \"Mountaineering Equipment\", \"Personal Accessories\"], \"values\": [723, 86, 52, 311]}], {\"title\": \"Predicted product line client interest distribution\"}, {\"linkText\": \"Export to plot.ly\", \"showLink\": true})});</script>", 
                        "application/vnd.plotly.v1+json": {
                            "layout": {
                                "title": "Predicted product line client interest distribution"
                            }, 
                            "data": [
                                {
                                    "values": [
                                        723, 
                                        86, 
                                        52, 
                                        311
                                    ], 
                                    "labels": [
                                        "Camping Equipment", 
                                        "Golf Equipment", 
                                        "Mountaineering Equipment", 
                                        "Personal Accessories"
                                    ], 
                                    "type": "pie"
                                }
                            ]
                        }
                    }, 
                    "metadata": {}
                }
            ], 
            "metadata": {
                "scrolled": false
            }
        }, 
        {
            "source": "With this data set, you might want to do some analysis of the mean AGE per product line by using a bar chart.", 
            "cell_type": "markdown", 
            "metadata": {}
        }, 
        {
            "source": "age_data = [go.Bar(y=predictions_pdf.groupby(['predictedLabel']).mean()[\"AGE\"], x=cumulative_stats.index)]\n\nage_layout = go.Layout(\n    title='Mean AGE per predicted product line',\n    xaxis=dict(title = \"Product Line\", showline=False),\n    yaxis=dict(title = \"Mean AGE\"))\n\nfig = go.Figure(data=age_data, layout=age_layout)\niplot(fig)", 
            "cell_type": "code", 
            "execution_count": 29, 
            "outputs": [
                {
                    "output_type": "display_data", 
                    "data": {
                        "text/html": "<div id=\"ff579581-9731-4cdc-b43e-945173f59313\" style=\"height: 525px; width: 100%;\" class=\"plotly-graph-div\"></div><script type=\"text/javascript\">require([\"plotly\"], function(Plotly) { window.PLOTLYENV=window.PLOTLYENV || {};window.PLOTLYENV.BASE_URL=\"https://plot.ly\";Plotly.newPlot(\"ff579581-9731-4cdc-b43e-945173f59313\", [{\"y\": [33.90041493775934, 51.604651162790695, 37.28846153846154, 30.273311897106108], \"x\": [\"Camping Equipment\", \"Golf Equipment\", \"Mountaineering Equipment\", \"Personal Accessories\"], \"type\": \"bar\"}], {\"title\": \"Mean AGE per predicted product line\", \"xaxis\": {\"showline\": false, \"title\": \"Product Line\"}, \"yaxis\": {\"title\": \"Mean AGE\"}}, {\"linkText\": \"Export to plot.ly\", \"showLink\": true})});</script>", 
                        "text/vnd.plotly.v1+html": "<div id=\"ff579581-9731-4cdc-b43e-945173f59313\" style=\"height: 525px; width: 100%;\" class=\"plotly-graph-div\"></div><script type=\"text/javascript\">require([\"plotly\"], function(Plotly) { window.PLOTLYENV=window.PLOTLYENV || {};window.PLOTLYENV.BASE_URL=\"https://plot.ly\";Plotly.newPlot(\"ff579581-9731-4cdc-b43e-945173f59313\", [{\"y\": [33.90041493775934, 51.604651162790695, 37.28846153846154, 30.273311897106108], \"x\": [\"Camping Equipment\", \"Golf Equipment\", \"Mountaineering Equipment\", \"Personal Accessories\"], \"type\": \"bar\"}], {\"title\": \"Mean AGE per predicted product line\", \"xaxis\": {\"showline\": false, \"title\": \"Product Line\"}, \"yaxis\": {\"title\": \"Mean AGE\"}}, {\"linkText\": \"Export to plot.ly\", \"showLink\": true})});</script>", 
                        "application/vnd.plotly.v1+json": {
                            "layout": {
                                "yaxis": {
                                    "title": "Mean AGE"
                                }, 
                                "xaxis": {
                                    "showline": false, 
                                    "title": "Product Line"
                                }, 
                                "title": "Mean AGE per predicted product line"
                            }, 
                            "data": [
                                {
                                    "y": [
                                        33.90041493775934, 
                                        51.604651162790695, 
                                        37.28846153846154, 
                                        30.273311897106108
                                    ], 
                                    "x": [
                                        "Camping Equipment", 
                                        "Golf Equipment", 
                                        "Mountaineering Equipment", 
                                        "Personal Accessories"
                                    ], 
                                    "type": "bar"
                                }
                            ]
                        }
                    }, 
                    "metadata": {}
                }
            ], 
            "metadata": {}
        }, 
        {
            "source": "Based on bar plot you created, you might make the following conclusion: The mean age for clients that are interested in golf equipment is predicted to be over 50 years old.", 
            "cell_type": "markdown", 
            "metadata": {}
        }, 
        {
            "source": "import ibmos2spark\n\n# @hidden_cell\ncredentials = {\n    'auth_url': 'https://identity.open.softlayer.com',\n    'project_id': '37ef207335594d13ab057421343b750e',\n    'region': 'dallas',\n    'user_id': 'dc930845fc434a17858ff427f7063ee5',\n    'username': 'member_5134c5713cf6702e2c107d636228cbb953e916c8',\n    'password': 'nn,mx)SFgojI~76E'\n}\n\nconfiguration_name = 'os_aa816606_configs'\nbmos = ibmos2spark.bluemix(sc, credentials, configuration_name)\n\nfrom pyspark.sql import SparkSession\nspark = SparkSession.builder.getOrCreate()", 
            "cell_type": "code", 
            "execution_count": 30, 
            "outputs": [], 
            "metadata": {}
        }, 
        {
            "source": "df_data_1 = spark.read\\\n  .format('org.apache.spark.sql.execution.datasources.csv.CSVFileFormat')\\\n  .option('header', 'true')\\\n  .option(\"inferSchema\", \"true\")\\\n  .load(bmos.url('WatsonMachineLearning', 'meetup.csv')).cache()", 
            "cell_type": "code", 
            "execution_count": 31, 
            "outputs": [], 
            "metadata": {}
        }, 
        {
            "source": "#df_data_1.select(\"id\",\"sentiment\",\"product_line\",\"age\",\"gender\",\"marital_status\",\"profession\",\"nome_completo\",\"telefone\").toPandas()", 
            "cell_type": "code", 
            "execution_count": 32, 
            "outputs": [], 
            "metadata": {}
        }, 
        {
            "source": "df_data_1.select(\"id\",\"sentiment\",\"product_line\",\"age\",\"gender\",\"marital_status\",\"profession\").toPandas()", 
            "cell_type": "code", 
            "execution_count": 33, 
            "outputs": [
                {
                    "output_type": "execute_result", 
                    "data": {
                        "text/plain": "      id sentiment              product_line  age gender marital_status  \\\n0  10546  positive            Golf Equipment   27      F        Married   \n1  13852  positive         Camping Equipment   17      F         Single   \n2  15288  negative  Mountaineering Equipment   20      M         Single   \n3  25736  positive        Outdoor Protection   23      M         Single   \n4  20376   neutral      Personal Accessories   19      M         Single   \n\n     profession  \n0  Professional  \n1       Student  \n2        Retail  \n3     Executive  \n4         Sales  ", 
                        "text/html": "<div>\n<table border=\"1\" class=\"dataframe\">\n  <thead>\n    <tr style=\"text-align: right;\">\n      <th></th>\n      <th>id</th>\n      <th>sentiment</th>\n      <th>product_line</th>\n      <th>age</th>\n      <th>gender</th>\n      <th>marital_status</th>\n      <th>profession</th>\n    </tr>\n  </thead>\n  <tbody>\n    <tr>\n      <th>0</th>\n      <td>10546</td>\n      <td>positive</td>\n      <td>Golf Equipment</td>\n      <td>27</td>\n      <td>F</td>\n      <td>Married</td>\n      <td>Professional</td>\n    </tr>\n    <tr>\n      <th>1</th>\n      <td>13852</td>\n      <td>positive</td>\n      <td>Camping Equipment</td>\n      <td>17</td>\n      <td>F</td>\n      <td>Single</td>\n      <td>Student</td>\n    </tr>\n    <tr>\n      <th>2</th>\n      <td>15288</td>\n      <td>negative</td>\n      <td>Mountaineering Equipment</td>\n      <td>20</td>\n      <td>M</td>\n      <td>Single</td>\n      <td>Retail</td>\n    </tr>\n    <tr>\n      <th>3</th>\n      <td>25736</td>\n      <td>positive</td>\n      <td>Outdoor Protection</td>\n      <td>23</td>\n      <td>M</td>\n      <td>Single</td>\n      <td>Executive</td>\n    </tr>\n    <tr>\n      <th>4</th>\n      <td>20376</td>\n      <td>neutral</td>\n      <td>Personal Accessories</td>\n      <td>19</td>\n      <td>M</td>\n      <td>Single</td>\n      <td>Sales</td>\n    </tr>\n  </tbody>\n</table>\n</div>"
                    }, 
                    "execution_count": 33, 
                    "metadata": {}
                }
            ], 
            "metadata": {}
        }, 
        {
            "source": "# spark.sql(\"drop table tweet_sales\")\ndf_data_1.registerTempTable(\"temptable2\")\nspark.sql(\"CREATE TABLE IF NOT EXISTS tweet_sales as select * from temptable2\")", 
            "cell_type": "code", 
            "execution_count": 34, 
            "outputs": [
                {
                    "output_type": "execute_result", 
                    "data": {
                        "text/plain": "DataFrame[]"
                    }, 
                    "execution_count": 34, 
                    "metadata": {}
                }
            ], 
            "metadata": {}
        }, 
        {
            "source": "df_data_1 = spark.sql(\"select * from tweet_sales\").cache()", 
            "cell_type": "code", 
            "execution_count": 35, 
            "outputs": [], 
            "metadata": {}
        }, 
        {
            "source": "from pyspark.sql.functions import *", 
            "cell_type": "code", 
            "execution_count": 36, 
            "outputs": [], 
            "metadata": {}
        }, 
        {
            "source": "df_data_1 = df_data_1.withColumn('PRODUCT_LINE', rtrim(df_data_1.PRODUCT_LINE))\\\n                     .withColumn('GENDER', rtrim(df_data_1.GENDER))\\\n                     .withColumn('MARITAL_STATUS', rtrim(df_data_1.MARITAL_STATUS))\\\n                     .withColumn('PROFESSION', rtrim(df_data_1.PROFESSION))", 
            "cell_type": "code", 
            "execution_count": 37, 
            "outputs": [], 
            "metadata": {}
        }, 
        {
            "source": "predictions2 = model_rf.transform(df_data_1)", 
            "cell_type": "code", 
            "execution_count": 38, 
            "outputs": [], 
            "metadata": {}
        }, 
        {
            "source": "predictions2.select(\"id\",\"sentiment\",\"predictedlabel\").toPandas()", 
            "cell_type": "code", 
            "execution_count": 39, 
            "outputs": [
                {
                    "output_type": "execute_result", 
                    "data": {
                        "text/plain": "      id sentiment        predictedlabel\n0  10546  positive  Personal Accessories\n1  13852  positive  Personal Accessories\n2  15288  negative     Camping Equipment\n3  25736  positive     Camping Equipment\n4  20376   neutral     Camping Equipment", 
                        "text/html": "<div>\n<table border=\"1\" class=\"dataframe\">\n  <thead>\n    <tr style=\"text-align: right;\">\n      <th></th>\n      <th>id</th>\n      <th>sentiment</th>\n      <th>predictedlabel</th>\n    </tr>\n  </thead>\n  <tbody>\n    <tr>\n      <th>0</th>\n      <td>10546</td>\n      <td>positive</td>\n      <td>Personal Accessories</td>\n    </tr>\n    <tr>\n      <th>1</th>\n      <td>13852</td>\n      <td>positive</td>\n      <td>Personal Accessories</td>\n    </tr>\n    <tr>\n      <th>2</th>\n      <td>15288</td>\n      <td>negative</td>\n      <td>Camping Equipment</td>\n    </tr>\n    <tr>\n      <th>3</th>\n      <td>25736</td>\n      <td>positive</td>\n      <td>Camping Equipment</td>\n    </tr>\n    <tr>\n      <th>4</th>\n      <td>20376</td>\n      <td>neutral</td>\n      <td>Camping Equipment</td>\n    </tr>\n  </tbody>\n</table>\n</div>"
                    }, 
                    "execution_count": 39, 
                    "metadata": {}
                }
            ], 
            "metadata": {
                "scrolled": false
            }
        }, 
        {
            "source": "from totalvoice.cliente import Cliente\ncliente = Cliente(\"88ed71219d42e124f9fc24b998b800c0\", 'api.totalvoice.com.br')", 
            "cell_type": "code", 
            "execution_count": 40, 
            "outputs": [], 
            "metadata": {}
        }, 
        {
            "source": "desconto = \"5%\"\nproduto = \"\"\nnome_cliente = \"\"\ncel = \"\"\nfor row in predictions2.rdd.collect():\n    if row[3].strip() in \"positive\":\n        desconto = \"10%\"\n    elif row[3].strip() in \"neutral\":\n        desconto = \"20%\"\n    elif row[3].strip() in \"negative\":\n        desconto = \"40%\"\n    produto = row[21]\n    nome_cliente = row[4]\n    cel = str(row[7]).replace(\" \", \"\").replace(\"(\", \"\").replace(\")\", \"\").replace(\"-\", \"\")[-11:]\n    \n    mensagem = \"Ola, \" +nome_cliente+\"! Voce acabou de ganhar \"+desconto+\" de desconto em qualquer produto da nossa linha de \"+produto+\".\"\n    print mensagem\n    print cel\n#     response = cliente.sms.enviar(c#e#l, mensagem)\n#     print(response)", 
            "cell_type": "code", 
            "execution_count": 41, 
            "outputs": [
                {
                    "output_type": "stream", 
                    "name": "stdout", 
                    "text": "Ola, Claudia Borges! Voce acabou de ganhar 10% de desconto em qualquer produto da nossa linha de Personal Accessories.\n11993549075\nOla, Patricia Zago! Voce acabou de ganhar 10% de desconto em qualquer produto da nossa linha de Personal Accessories.\n11953839783\nOla, Danilo Thiago Lima! Voce acabou de ganhar 40% de desconto em qualquer produto da nossa linha de Camping Equipment.\n11982071684\nOla, Carlos Nonaka Bonfante! Voce acabou de ganhar 10% de desconto em qualquer produto da nossa linha de Camping Equipment.\n17991519233\nOla, Gustavo Felipe! Voce acabou de ganhar 20% de desconto em qualquer produto da nossa linha de Camping Equipment.\n11941532500\n"
                }
            ], 
            "metadata": {}
        }, 
        {
            "source": "predictions2.select(\"id\",\"nome_completo\").toPandas()", 
            "cell_type": "code", 
            "execution_count": 43, 
            "outputs": [
                {
                    "output_type": "execute_result", 
                    "data": {
                        "text/plain": "      id           nome_completo\n0  10546          Claudia Borges\n1  13852           Patricia Zago\n2  15288      Danilo Thiago Lima\n3  25736  Carlos Nonaka Bonfante\n4  20376          Gustavo Felipe", 
                        "text/html": "<div>\n<table border=\"1\" class=\"dataframe\">\n  <thead>\n    <tr style=\"text-align: right;\">\n      <th></th>\n      <th>id</th>\n      <th>nome_completo</th>\n    </tr>\n  </thead>\n  <tbody>\n    <tr>\n      <th>0</th>\n      <td>10546</td>\n      <td>Claudia Borges</td>\n    </tr>\n    <tr>\n      <th>1</th>\n      <td>13852</td>\n      <td>Patricia Zago</td>\n    </tr>\n    <tr>\n      <th>2</th>\n      <td>15288</td>\n      <td>Danilo Thiago Lima</td>\n    </tr>\n    <tr>\n      <th>3</th>\n      <td>25736</td>\n      <td>Carlos Nonaka Bonfante</td>\n    </tr>\n    <tr>\n      <th>4</th>\n      <td>20376</td>\n      <td>Gustavo Felipe</td>\n    </tr>\n  </tbody>\n</table>\n</div>"
                    }, 
                    "execution_count": 43, 
                    "metadata": {}
                }
            ], 
            "metadata": {}
        }, 
        {
            "source": "", 
            "cell_type": "code", 
            "execution_count": null, 
            "outputs": [], 
            "metadata": {}
        }
    ], 
    "nbformat": 4, 
    "metadata": {
        "kernelspec": {
            "display_name": "Python 2 with Spark 2.1", 
            "name": "python2-spark21", 
            "language": "python"
        }, 
        "language_info": {
            "mimetype": "text/x-python", 
            "nbconvert_exporter": "python", 
            "version": "2.7.14", 
            "name": "python", 
            "pygments_lexer": "ipython2", 
            "file_extension": ".py", 
            "codemirror_mode": {
                "version": 2, 
                "name": "ipython"
            }
        }
    }
}